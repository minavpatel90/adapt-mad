{
 "cells": [
  {
   "cell_type": "markdown",
   "metadata": {},
   "source": [
    "# ADAPT-MAD Example Notebook\n",
    "\n",
    "This notebook demonstrates basic usage of ADAPT-MAD."
   ]
  },
  {
   "cell_type": "code",
   "execution_count": null,
   "metadata": {},
   "outputs": [],
   "source": [
    "import sys\n",
    "sys.path.insert(0, '../src')\n",
    "\n",
    "from src.agents import LatencyDetectionAgent\n",
    "from src.coordination import AdaptiveCoordinator, SystemState\n",
    "import numpy as np"
   ]
  },
  {
   "cell_type": "code",
   "execution_count": null,
   "metadata": {},
   "outputs": [],
   "source": [
    "# Create agent\n",
    "agent = LatencyDetectionAgent(feature_dim=10, window_size=50)\n",
    "print(f\"Agent type: {agent.agent_type.value}\")"
   ]
  },
  {
   "cell_type": "code",
   "execution_count": null,
   "metadata": {},
   "outputs": [],
   "source": [
    "# Generate test data\n",
    "window = np.random.randn(50, 10)\n",
    "result = agent.detect(window)\n",
    "\n",
    "print(f\"Anomaly detected: {result.is_anomaly}\")\n",
    "print(f\"Confidence: {result.confidence:.3f}\")"
   ]
  }
 ],
 "metadata": {
  "kernelspec": {
   "display_name": "Python 3",
   "language": "python",
   "name": "python3"
  }
 },
 "nbformat": 4,
 "nbformat_minor": 4
}
